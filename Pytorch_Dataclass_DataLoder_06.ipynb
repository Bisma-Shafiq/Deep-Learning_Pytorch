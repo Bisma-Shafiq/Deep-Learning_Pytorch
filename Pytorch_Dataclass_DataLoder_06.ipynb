{
  "nbformat": 4,
  "nbformat_minor": 0,
  "metadata": {
    "colab": {
      "provenance": [],
      "authorship_tag": "ABX9TyMW3YiSGfsl7/+0fE7hMiDD",
      "include_colab_link": true
    },
    "kernelspec": {
      "name": "python3",
      "display_name": "Python 3"
    },
    "language_info": {
      "name": "python"
    }
  },
  "cells": [
    {
      "cell_type": "markdown",
      "metadata": {
        "id": "view-in-github",
        "colab_type": "text"
      },
      "source": [
        "<a href=\"https://colab.research.google.com/github/Bisma-Shafiq/Deep-Learning_Pytorch/blob/main/Pytorch_Dataclass_DataLoder_06.ipynb\" target=\"_parent\"><img src=\"https://colab.research.google.com/assets/colab-badge.svg\" alt=\"Open In Colab\"/></a>"
      ]
    },
    {
      "cell_type": "code",
      "execution_count": null,
      "metadata": {
        "id": "SoYV9cO84pqo"
      },
      "outputs": [],
      "source": [
        "from sklearn.datasets import make_classification\n",
        "import torch"
      ]
    },
    {
      "cell_type": "code",
      "source": [
        "x,y= make_classification(\n",
        "    n_samples=10,\n",
        "    n_features=2,\n",
        "    n_informative=2,\n",
        "    n_redundant=0,\n",
        "    n_classes=2,\n",
        "    random_state=42,\n",
        ")"
      ],
      "metadata": {
        "id": "9qEKJrcAG_X0"
      },
      "execution_count": null,
      "outputs": []
    },
    {
      "cell_type": "code",
      "source": [
        "x"
      ],
      "metadata": {
        "colab": {
          "base_uri": "https://localhost:8080/"
        },
        "id": "NIP4IUDqHHx6",
        "outputId": "07786067-a70c-4d97-cd7f-6c5127f12bb0"
      },
      "execution_count": null,
      "outputs": [
        {
          "output_type": "execute_result",
          "data": {
            "text/plain": [
              "array([[ 1.06833894, -0.97007347],\n",
              "       [-1.14021544, -0.83879234],\n",
              "       [-2.8953973 ,  1.97686236],\n",
              "       [-0.72063436, -0.96059253],\n",
              "       [-1.96287438, -0.99225135],\n",
              "       [-0.9382051 , -0.54304815],\n",
              "       [ 1.72725924, -1.18582677],\n",
              "       [ 1.77736657,  1.51157598],\n",
              "       [ 1.89969252,  0.83444483],\n",
              "       [-0.58723065, -1.97171753]])"
            ]
          },
          "metadata": {},
          "execution_count": 11
        }
      ]
    },
    {
      "cell_type": "code",
      "source": [
        "y"
      ],
      "metadata": {
        "colab": {
          "base_uri": "https://localhost:8080/"
        },
        "id": "JO73-jP3Hdg0",
        "outputId": "fb18b9ec-c28b-4d85-f76d-5d90f55889ce"
      },
      "execution_count": null,
      "outputs": [
        {
          "output_type": "execute_result",
          "data": {
            "text/plain": [
              "array([1, 0, 0, 0, 0, 1, 1, 1, 1, 0])"
            ]
          },
          "metadata": {},
          "execution_count": 12
        }
      ]
    },
    {
      "cell_type": "code",
      "source": [
        "y.shape"
      ],
      "metadata": {
        "colab": {
          "base_uri": "https://localhost:8080/"
        },
        "id": "Odc7d9D7Hd7-",
        "outputId": "aeb6cbbb-ecf4-47d8-d4a9-63c5b4f919a0"
      },
      "execution_count": null,
      "outputs": [
        {
          "output_type": "execute_result",
          "data": {
            "text/plain": [
              "(10,)"
            ]
          },
          "metadata": {},
          "execution_count": 13
        }
      ]
    },
    {
      "cell_type": "markdown",
      "source": [
        "# convert data to tensor"
      ],
      "metadata": {
        "id": "RnTcxUJXH3dd"
      }
    },
    {
      "cell_type": "code",
      "source": [
        "x = torch.tensor(x, dtype=torch.float32)\n",
        "y = torch.tensor(y, dtype=torch.float32)"
      ],
      "metadata": {
        "id": "MgH8po6BHwxx"
      },
      "execution_count": null,
      "outputs": []
    },
    {
      "cell_type": "code",
      "source": [
        "from torch.utils.data import DataLoader , Dataset"
      ],
      "metadata": {
        "id": "VNNas140H_7Y"
      },
      "execution_count": null,
      "outputs": []
    },
    {
      "cell_type": "code",
      "source": [
        "class CustomDataset(Dataset):\n",
        "\n",
        "  def __init__(self, features , labels):\n",
        "    self.features = features\n",
        "    self.labels = labels\n",
        "\n",
        "  def __len__(self):\n",
        "    return self.features.shape[0]\n",
        "\n",
        "  def __getitem__(self, index):\n",
        "    return self.features[index] , self.labels[index]\n"
      ],
      "metadata": {
        "id": "hmmuqW40IDG2"
      },
      "execution_count": null,
      "outputs": []
    },
    {
      "cell_type": "code",
      "source": [
        "dataset = CustomDataset(x,y)"
      ],
      "metadata": {
        "id": "RR_2asb3JcEj"
      },
      "execution_count": null,
      "outputs": []
    },
    {
      "cell_type": "code",
      "source": [
        "len(dataset)"
      ],
      "metadata": {
        "colab": {
          "base_uri": "https://localhost:8080/"
        },
        "id": "KzzOm8SZKFSY",
        "outputId": "87bb418e-a291-489e-a800-c30f6b9bec7e"
      },
      "execution_count": null,
      "outputs": [
        {
          "output_type": "execute_result",
          "data": {
            "text/plain": [
              "10"
            ]
          },
          "metadata": {},
          "execution_count": 25
        }
      ]
    },
    {
      "cell_type": "code",
      "source": [
        "for i in range(len(dataset)):\n",
        "\n",
        "  print(dataset[i])"
      ],
      "metadata": {
        "colab": {
          "base_uri": "https://localhost:8080/"
        },
        "id": "RFi5MxskKGPw",
        "outputId": "425df45f-f6da-4802-930c-422a7073cbaf"
      },
      "execution_count": null,
      "outputs": [
        {
          "output_type": "stream",
          "name": "stdout",
          "text": [
            "(tensor([ 1.0683, -0.9701]), tensor(1.))\n",
            "(tensor([-1.1402, -0.8388]), tensor(0.))\n",
            "(tensor([-2.8954,  1.9769]), tensor(0.))\n",
            "(tensor([-0.7206, -0.9606]), tensor(0.))\n",
            "(tensor([-1.9629, -0.9923]), tensor(0.))\n",
            "(tensor([-0.9382, -0.5430]), tensor(1.))\n",
            "(tensor([ 1.7273, -1.1858]), tensor(1.))\n",
            "(tensor([1.7774, 1.5116]), tensor(1.))\n",
            "(tensor([1.8997, 0.8344]), tensor(1.))\n",
            "(tensor([-0.5872, -1.9717]), tensor(0.))\n"
          ]
        }
      ]
    },
    {
      "cell_type": "code",
      "source": [
        "dataset[6]"
      ],
      "metadata": {
        "colab": {
          "base_uri": "https://localhost:8080/"
        },
        "id": "iKugActRKS_N",
        "outputId": "b6896dcb-bb03-493e-e1b2-073c60fa5723"
      },
      "execution_count": null,
      "outputs": [
        {
          "output_type": "execute_result",
          "data": {
            "text/plain": [
              "(tensor([ 1.7273, -1.1858]), tensor(1.))"
            ]
          },
          "metadata": {},
          "execution_count": 29
        }
      ]
    },
    {
      "cell_type": "markdown",
      "source": [
        "# dataloader\n"
      ],
      "metadata": {
        "id": "DJraR6sFMpWH"
      }
    },
    {
      "cell_type": "code",
      "source": [
        "dataloader = DataLoader(dataset , batch_size=2 , shuffle=True)"
      ],
      "metadata": {
        "id": "QZWSRklVKgx0"
      },
      "execution_count": null,
      "outputs": []
    },
    {
      "cell_type": "code",
      "source": [
        "for data_features , data_labels in dataloader:\n",
        "  print(data_features)\n",
        "  print(data_labels)\n",
        "  print(\"------------------------------------\")"
      ],
      "metadata": {
        "colab": {
          "base_uri": "https://localhost:8080/"
        },
        "id": "TnjzUuIcMwCH",
        "outputId": "738b936e-0eb6-4488-a534-cb2e493a378a"
      },
      "execution_count": null,
      "outputs": [
        {
          "output_type": "stream",
          "name": "stdout",
          "text": [
            "tensor([[ 1.0683, -0.9701],\n",
            "        [ 1.7273, -1.1858]])\n",
            "tensor([1., 1.])\n",
            "------------------------------------\n",
            "tensor([[-0.7206, -0.9606],\n",
            "        [-0.5872, -1.9717]])\n",
            "tensor([0., 0.])\n",
            "------------------------------------\n",
            "tensor([[-2.8954,  1.9769],\n",
            "        [-0.9382, -0.5430]])\n",
            "tensor([0., 1.])\n",
            "------------------------------------\n",
            "tensor([[1.7774, 1.5116],\n",
            "        [1.8997, 0.8344]])\n",
            "tensor([1., 1.])\n",
            "------------------------------------\n",
            "tensor([[-1.1402, -0.8388],\n",
            "        [-1.9629, -0.9923]])\n",
            "tensor([0., 0.])\n",
            "------------------------------------\n"
          ]
        }
      ]
    },
    {
      "cell_type": "code",
      "source": [],
      "metadata": {
        "id": "KDP_huw7NFCo"
      },
      "execution_count": null,
      "outputs": []
    }
  ]
}