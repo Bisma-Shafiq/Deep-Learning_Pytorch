{
  "nbformat": 4,
  "nbformat_minor": 0,
  "metadata": {
    "colab": {
      "provenance": [],
      "authorship_tag": "ABX9TyMpUBmucz2gOft/UNshEC9k",
      "include_colab_link": true
    },
    "kernelspec": {
      "name": "python3",
      "display_name": "Python 3"
    },
    "language_info": {
      "name": "python"
    }
  },
  "cells": [
    {
      "cell_type": "markdown",
      "metadata": {
        "id": "view-in-github",
        "colab_type": "text"
      },
      "source": [
        "<a href=\"https://colab.research.google.com/github/Bisma-Shafiq/Deep-Learning_Pytorch/blob/main/Pytorch_Training_Pipeline_03.ipynb\" target=\"_parent\"><img src=\"https://colab.research.google.com/assets/colab-badge.svg\" alt=\"Open In Colab\"/></a>"
      ]
    },
    {
      "cell_type": "code",
      "source": [
        "import pandas as pd\n",
        "import numpy as np\n",
        "import matplotlib.pyplot as plt\n",
        "import seaborn as sns\n",
        "from sklearn.model_selection import train_test_split\n",
        "from sklearn.preprocessing import StandardScaler\n",
        "from sklearn.preprocessing import LabelEncoder\n",
        "\n",
        "data = pd.read_csv('https://raw.githubusercontent.com/gscdit/Breast-Cancer-Detection/refs/heads/master/data.csv')\n",
        "data.drop(columns=['id', 'Unnamed: 32'], inplace=True)\n",
        "\n",
        "# Define features (X) and target variable (y)\n",
        "X = data.drop('diagnosis', axis=1)\n",
        "y = data['diagnosis']\n",
        "\n",
        "# Convert diagnosis to numerical values (0 for 'B', 1 for 'M')\n",
        "y = y.map({'B': 0, 'M': 1})\n",
        "\n",
        "\n",
        "# Split data into training and testing sets\n",
        "x_train, x_test, y_train, y_test = train_test_split(X, y, test_size=0.2, random_state=42) # Added random_state for reproducibility\n",
        "\n",
        "\n",
        "# Scale the features using StandardScaler\n",
        "st = StandardScaler()\n",
        "x_train = st.fit_transform(x_train)\n",
        "x_test = st.transform(x_test)\n"
      ],
      "metadata": {
        "id": "JcVrakLQlVEe"
      },
      "execution_count": 130,
      "outputs": []
    },
    {
      "cell_type": "code",
      "source": [
        "x_train"
      ],
      "metadata": {
        "colab": {
          "base_uri": "https://localhost:8080/"
        },
        "id": "0xqbjgOJoZJ-",
        "outputId": "7b684af5-f87e-4604-c162-41fe784da016"
      },
      "execution_count": 131,
      "outputs": [
        {
          "output_type": "execute_result",
          "data": {
            "text/plain": [
              "array([[-1.44075296, -0.43531947, -1.36208497, ...,  0.9320124 ,\n",
              "         2.09724217,  1.88645014],\n",
              "       [ 1.97409619,  1.73302577,  2.09167167, ...,  2.6989469 ,\n",
              "         1.89116053,  2.49783848],\n",
              "       [-1.39998202, -1.24962228, -1.34520926, ..., -0.97023893,\n",
              "         0.59760192,  0.0578942 ],\n",
              "       ...,\n",
              "       [ 0.04880192, -0.55500086, -0.06512547, ..., -1.23903365,\n",
              "        -0.70863864, -1.27145475],\n",
              "       [-0.03896885,  0.10207345, -0.03137406, ...,  1.05001236,\n",
              "         0.43432185,  1.21336207],\n",
              "       [-0.54860557,  0.31327591, -0.60350155, ..., -0.61102866,\n",
              "        -0.3345212 , -0.84628745]])"
            ]
          },
          "metadata": {},
          "execution_count": 131
        }
      ]
    },
    {
      "cell_type": "code",
      "source": [
        "le = LabelEncoder()\n",
        "y_train = le.fit_transform(y_train)\n",
        "y_test = le.transform(y_test)"
      ],
      "metadata": {
        "id": "vrCBFkG5oxGu"
      },
      "execution_count": 132,
      "outputs": []
    },
    {
      "cell_type": "code",
      "source": [
        "y_test"
      ],
      "metadata": {
        "colab": {
          "base_uri": "https://localhost:8080/"
        },
        "id": "5bqHi5c5pG2y",
        "outputId": "d515c065-3af1-48a4-c87f-44ecafeed974"
      },
      "execution_count": 133,
      "outputs": [
        {
          "output_type": "execute_result",
          "data": {
            "text/plain": [
              "array([0, 1, 1, 0, 0, 1, 1, 1, 0, 0, 0, 1, 0, 1, 0, 1, 0, 0, 0, 1, 1, 0,\n",
              "       1, 0, 0, 0, 0, 0, 0, 1, 0, 0, 0, 0, 0, 0, 1, 0, 1, 0, 0, 1, 0, 0,\n",
              "       0, 0, 0, 0, 0, 0, 1, 1, 0, 0, 0, 0, 0, 1, 1, 0, 0, 1, 1, 0, 0, 0,\n",
              "       1, 1, 0, 0, 1, 1, 0, 1, 0, 0, 0, 1, 0, 0, 1, 0, 1, 1, 1, 1, 1, 1,\n",
              "       0, 0, 0, 0, 0, 0, 0, 0, 1, 1, 0, 1, 1, 0, 1, 1, 0, 0, 0, 1, 0, 0,\n",
              "       1, 0, 0, 1])"
            ]
          },
          "metadata": {},
          "execution_count": 133
        }
      ]
    },
    {
      "cell_type": "markdown",
      "source": [
        "# convert array to tensor\n"
      ],
      "metadata": {
        "id": "cQQPBAb6pWD9"
      }
    },
    {
      "cell_type": "code",
      "source": [
        "import torch"
      ],
      "metadata": {
        "id": "-sfDGYbApIVo"
      },
      "execution_count": 134,
      "outputs": []
    },
    {
      "cell_type": "code",
      "source": [
        "x_train_tensor= torch.from_numpy(x_train)\n",
        "x_test_tensor= torch.from_numpy(x_test)\n",
        "y_train_tensor= torch.from_numpy(y_train)\n",
        "y_test_tensor= torch.from_numpy(y_test)"
      ],
      "metadata": {
        "id": "vYjmafb2pedB"
      },
      "execution_count": 135,
      "outputs": []
    },
    {
      "cell_type": "code",
      "source": [
        "x_train_tensor"
      ],
      "metadata": {
        "colab": {
          "base_uri": "https://localhost:8080/"
        },
        "id": "EOx2wdiepthS",
        "outputId": "739821a3-f8cb-4deb-ce29-32a63d60158e"
      },
      "execution_count": 136,
      "outputs": [
        {
          "output_type": "execute_result",
          "data": {
            "text/plain": [
              "tensor([[-1.4408, -0.4353, -1.3621,  ...,  0.9320,  2.0972,  1.8865],\n",
              "        [ 1.9741,  1.7330,  2.0917,  ...,  2.6989,  1.8912,  2.4978],\n",
              "        [-1.4000, -1.2496, -1.3452,  ..., -0.9702,  0.5976,  0.0579],\n",
              "        ...,\n",
              "        [ 0.0488, -0.5550, -0.0651,  ..., -1.2390, -0.7086, -1.2715],\n",
              "        [-0.0390,  0.1021, -0.0314,  ...,  1.0500,  0.4343,  1.2134],\n",
              "        [-0.5486,  0.3133, -0.6035,  ..., -0.6110, -0.3345, -0.8463]],\n",
              "       dtype=torch.float64)"
            ]
          },
          "metadata": {},
          "execution_count": 136
        }
      ]
    },
    {
      "cell_type": "code",
      "source": [
        "x_test_tensor.shape"
      ],
      "metadata": {
        "colab": {
          "base_uri": "https://localhost:8080/"
        },
        "id": "3tVsxSnbpiwr",
        "outputId": "32e5ba5b-75ac-49a4-8b2e-aec53200bce4"
      },
      "execution_count": 137,
      "outputs": [
        {
          "output_type": "execute_result",
          "data": {
            "text/plain": [
              "torch.Size([114, 30])"
            ]
          },
          "metadata": {},
          "execution_count": 137
        }
      ]
    },
    {
      "cell_type": "markdown",
      "source": [
        "# model selection"
      ],
      "metadata": {
        "id": "lEl66JS0qo3-"
      }
    },
    {
      "cell_type": "code",
      "source": [
        "class myneuralnetwork():\n",
        "\n",
        "  def __init__(self, x):\n",
        "\n",
        "    self.weights = torch.rand(x.shape[1], 1 , requires_grad=True, dtype=torch.float64)\n",
        "    self.bias = torch.zeros(1, requires_grad=True, dtype=torch.float64)\n",
        "\n",
        "\n",
        "  def forward(self, x):\n",
        "    z = torch.matmul(x,self.weights)+ self.bias\n",
        "    y_pred = torch.sigmoid(z)\n",
        "    return y_pred\n",
        "\n",
        "\n",
        "  def loss(self, y_pred, y):\n",
        "    epilson = 1e-7\n",
        "    y_pred = torch.clamp(y_pred, epilson, 1 - epilson)\n",
        "    loss = -y * torch.log(y_pred) - (1 - y) * torch.log(1 - y_pred)\n",
        "    return loss.mean()"
      ],
      "metadata": {
        "id": "_VsmnGwhpp1k"
      },
      "execution_count": 138,
      "outputs": []
    },
    {
      "cell_type": "code",
      "source": [
        "# some important parameters\n",
        "\n",
        "learning_rate = 0.1\n",
        "epocs = 20\n"
      ],
      "metadata": {
        "id": "JKBpJujGrMAo"
      },
      "execution_count": 139,
      "outputs": []
    },
    {
      "cell_type": "markdown",
      "source": [
        "# Training Pipeline"
      ],
      "metadata": {
        "id": "z6rqo9sBsDKr"
      }
    },
    {
      "cell_type": "code",
      "source": [
        "model = myneuralnetwork(x_train_tensor)\n",
        "\n",
        "for epoch in range(epocs):\n",
        "# forward\n",
        "  y_pred = model.forward(x_train_tensor)\n",
        "  #print(y_pred)\n",
        "# loss cal\n",
        "  loss = model.loss(y_pred, y_train_tensor)\n",
        "  #print(f\"Epoch: {epoch+1}, Loss: {loss.item()}\")\n",
        "\n",
        " # backward\n",
        "  loss.backward()\n",
        "# update\n",
        "  with torch.no_grad():\n",
        "    model.weights -= learning_rate * model.weights.grad\n",
        "    model.bias -= learning_rate * model.bias.grad\n",
        "#  zero gradient\n",
        "  model.weights.grad.zero_()\n",
        "  model.bias.grad.zero_()\n",
        "\n",
        "  print(f\"Epoch: {epoch+1}, Loss: {loss.item()}\")"
      ],
      "metadata": {
        "colab": {
          "base_uri": "https://localhost:8080/"
        },
        "collapsed": true,
        "id": "cgY5ktacrlUP",
        "outputId": "53a8ca40-e6eb-4ff2-a65e-4c7d91655725"
      },
      "execution_count": 140,
      "outputs": [
        {
          "output_type": "stream",
          "name": "stdout",
          "text": [
            "Epoch: 1, Loss: 3.258091362493643\n",
            "Epoch: 2, Loss: 3.1194101705575097\n",
            "Epoch: 3, Loss: 2.9736752676699107\n",
            "Epoch: 4, Loss: 2.821516735558547\n",
            "Epoch: 5, Loss: 2.6627958141069104\n",
            "Epoch: 6, Loss: 2.49578591394311\n",
            "Epoch: 7, Loss: 2.3239145334726445\n",
            "Epoch: 8, Loss: 2.1539348734701735\n",
            "Epoch: 9, Loss: 1.9896920962947966\n",
            "Epoch: 10, Loss: 1.8307533001797673\n",
            "Epoch: 11, Loss: 1.6777199912021066\n",
            "Epoch: 12, Loss: 1.5352567508080732\n",
            "Epoch: 13, Loss: 1.403933333562181\n",
            "Epoch: 14, Loss: 1.2824421575852245\n",
            "Epoch: 15, Loss: 1.174192777697455\n",
            "Epoch: 16, Loss: 1.0799518561446686\n",
            "Epoch: 17, Loss: 1.0031183671423367\n",
            "Epoch: 18, Loss: 0.9425055277752974\n",
            "Epoch: 19, Loss: 0.896072226469531\n",
            "Epoch: 20, Loss: 0.8612292224593381\n"
          ]
        }
      ]
    },
    {
      "cell_type": "code",
      "source": [
        "model.weights"
      ],
      "metadata": {
        "colab": {
          "base_uri": "https://localhost:8080/"
        },
        "id": "F_BBK9iFusq0",
        "outputId": "236f3906-ff14-44d8-8671-0a934737bb98"
      },
      "execution_count": 141,
      "outputs": [
        {
          "output_type": "execute_result",
          "data": {
            "text/plain": [
              "tensor([[-0.0689],\n",
              "        [-0.1223],\n",
              "        [-0.1106],\n",
              "        [ 0.2462],\n",
              "        [ 0.2215],\n",
              "        [-0.5014],\n",
              "        [-0.4592],\n",
              "        [ 0.0967],\n",
              "        [ 0.0811],\n",
              "        [ 0.1991],\n",
              "        [ 0.2755],\n",
              "        [ 0.0919],\n",
              "        [-0.1908],\n",
              "        [ 0.5354],\n",
              "        [ 0.3292],\n",
              "        [ 0.2494],\n",
              "        [ 0.0321],\n",
              "        [ 0.3463],\n",
              "        [ 0.1616],\n",
              "        [ 0.1028],\n",
              "        [ 0.1792],\n",
              "        [ 0.4200],\n",
              "        [ 0.2564],\n",
              "        [ 0.1599],\n",
              "        [ 0.3763],\n",
              "        [ 0.2490],\n",
              "        [-0.2403],\n",
              "        [-0.4473],\n",
              "        [-0.1651],\n",
              "        [-0.2512]], dtype=torch.float64, requires_grad=True)"
            ]
          },
          "metadata": {},
          "execution_count": 141
        }
      ]
    },
    {
      "cell_type": "code",
      "source": [
        "model.bias"
      ],
      "metadata": {
        "colab": {
          "base_uri": "https://localhost:8080/"
        },
        "id": "BmYSrfX4rqR0",
        "outputId": "e9928408-013a-4d7e-8a4a-e26c58f857a2"
      },
      "execution_count": 142,
      "outputs": [
        {
          "output_type": "execute_result",
          "data": {
            "text/plain": [
              "tensor([-0.1072], dtype=torch.float64, requires_grad=True)"
            ]
          },
          "metadata": {},
          "execution_count": 142
        }
      ]
    },
    {
      "cell_type": "markdown",
      "source": [
        "# Evaluation"
      ],
      "metadata": {
        "id": "lriQ-7Jdy-aV"
      }
    },
    {
      "cell_type": "code",
      "source": [
        "with torch.no_grad():\n",
        "  y_pred = model.forward(x_test_tensor)\n",
        "  y_pred = (y_pred > 0.5).float()\n",
        "  #accuracy\n",
        "  accuracy = (y_pred == y_test_tensor).float().mean()\n",
        "  print(f\"Accuracy: {accuracy.item()}\")\n",
        "  #print(y_pred)"
      ],
      "metadata": {
        "colab": {
          "base_uri": "https://localhost:8080/"
        },
        "collapsed": true,
        "id": "hfFo-A9gr86y",
        "outputId": "2cb479a5-0212-49fd-f0de-15b4116b7e55"
      },
      "execution_count": 143,
      "outputs": [
        {
          "output_type": "stream",
          "name": "stdout",
          "text": [
            "Accuracy: 0.5\n"
          ]
        }
      ]
    },
    {
      "cell_type": "code",
      "source": [],
      "metadata": {
        "id": "v7NatMbHzPjg"
      },
      "execution_count": 143,
      "outputs": []
    }
  ]
}