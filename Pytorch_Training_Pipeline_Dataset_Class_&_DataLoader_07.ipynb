{
  "nbformat": 4,
  "nbformat_minor": 0,
  "metadata": {
    "colab": {
      "provenance": [],
      "authorship_tag": "ABX9TyODMq0Ii6qDMjwlb+gT+eMB",
      "include_colab_link": true
    },
    "kernelspec": {
      "name": "python3",
      "display_name": "Python 3"
    },
    "language_info": {
      "name": "python"
    }
  },
  "cells": [
    {
      "cell_type": "markdown",
      "metadata": {
        "id": "view-in-github",
        "colab_type": "text"
      },
      "source": [
        "<a href=\"https://colab.research.google.com/github/Bisma-Shafiq/Deep-Learning_Pytorch/blob/main/Pytorch_Training_Pipeline_Dataset_Class_%26_DataLoader_07.ipynb\" target=\"_parent\"><img src=\"https://colab.research.google.com/assets/colab-badge.svg\" alt=\"Open In Colab\"/></a>"
      ]
    },
    {
      "cell_type": "code",
      "source": [
        "import pandas as pd\n",
        "import numpy as np\n",
        "import matplotlib.pyplot as plt\n",
        "import seaborn as sns\n",
        "from sklearn.model_selection import train_test_split\n",
        "from sklearn.preprocessing import StandardScaler\n",
        "from sklearn.preprocessing import LabelEncoder\n",
        "\n",
        "data = pd.read_csv('https://raw.githubusercontent.com/gscdit/Breast-Cancer-Detection/refs/heads/master/data.csv')\n",
        "data.drop(columns=['id', 'Unnamed: 32'], inplace=True)\n",
        "\n",
        "# Define features (X) and target variable (y)\n",
        "X = data.drop('diagnosis', axis=1)\n",
        "y = data['diagnosis']\n",
        "\n",
        "# Convert diagnosis to numerical values (0 for 'B', 1 for 'M')\n",
        "y = y.map({'B': 0, 'M': 1})\n",
        "\n",
        "\n",
        "# Split data into training and testing sets\n",
        "x_train, x_test, y_train, y_test = train_test_split(X, y, test_size=0.2, random_state=42) # Added random_state for reproducibility\n",
        "\n",
        "\n",
        "# Scale the features using StandardScaler\n",
        "st = StandardScaler()\n",
        "x_train = st.fit_transform(x_train)\n",
        "x_test = st.transform(x_test)\n"
      ],
      "metadata": {
        "id": "JcVrakLQlVEe"
      },
      "execution_count": 19,
      "outputs": []
    },
    {
      "cell_type": "code",
      "source": [
        "x_train"
      ],
      "metadata": {
        "colab": {
          "base_uri": "https://localhost:8080/"
        },
        "id": "0xqbjgOJoZJ-",
        "outputId": "57ba7249-82e3-48e9-eb32-8114877a7d6b"
      },
      "execution_count": 20,
      "outputs": [
        {
          "output_type": "execute_result",
          "data": {
            "text/plain": [
              "array([[-1.44075296, -0.43531947, -1.36208497, ...,  0.9320124 ,\n",
              "         2.09724217,  1.88645014],\n",
              "       [ 1.97409619,  1.73302577,  2.09167167, ...,  2.6989469 ,\n",
              "         1.89116053,  2.49783848],\n",
              "       [-1.39998202, -1.24962228, -1.34520926, ..., -0.97023893,\n",
              "         0.59760192,  0.0578942 ],\n",
              "       ...,\n",
              "       [ 0.04880192, -0.55500086, -0.06512547, ..., -1.23903365,\n",
              "        -0.70863864, -1.27145475],\n",
              "       [-0.03896885,  0.10207345, -0.03137406, ...,  1.05001236,\n",
              "         0.43432185,  1.21336207],\n",
              "       [-0.54860557,  0.31327591, -0.60350155, ..., -0.61102866,\n",
              "        -0.3345212 , -0.84628745]])"
            ]
          },
          "metadata": {},
          "execution_count": 20
        }
      ]
    },
    {
      "cell_type": "code",
      "source": [
        "le = LabelEncoder()\n",
        "y_train = le.fit_transform(y_train)\n",
        "y_test = le.transform(y_test)"
      ],
      "metadata": {
        "id": "vrCBFkG5oxGu"
      },
      "execution_count": 21,
      "outputs": []
    },
    {
      "cell_type": "code",
      "source": [
        "y_test"
      ],
      "metadata": {
        "colab": {
          "base_uri": "https://localhost:8080/"
        },
        "id": "5bqHi5c5pG2y",
        "outputId": "bba32d35-7bb2-4eb0-abf0-310e792adc0d"
      },
      "execution_count": 22,
      "outputs": [
        {
          "output_type": "execute_result",
          "data": {
            "text/plain": [
              "array([0, 1, 1, 0, 0, 1, 1, 1, 0, 0, 0, 1, 0, 1, 0, 1, 0, 0, 0, 1, 1, 0,\n",
              "       1, 0, 0, 0, 0, 0, 0, 1, 0, 0, 0, 0, 0, 0, 1, 0, 1, 0, 0, 1, 0, 0,\n",
              "       0, 0, 0, 0, 0, 0, 1, 1, 0, 0, 0, 0, 0, 1, 1, 0, 0, 1, 1, 0, 0, 0,\n",
              "       1, 1, 0, 0, 1, 1, 0, 1, 0, 0, 0, 1, 0, 0, 1, 0, 1, 1, 1, 1, 1, 1,\n",
              "       0, 0, 0, 0, 0, 0, 0, 0, 1, 1, 0, 1, 1, 0, 1, 1, 0, 0, 0, 1, 0, 0,\n",
              "       1, 0, 0, 1])"
            ]
          },
          "metadata": {},
          "execution_count": 22
        }
      ]
    },
    {
      "cell_type": "markdown",
      "source": [
        "# convert array to tensor\n"
      ],
      "metadata": {
        "id": "cQQPBAb6pWD9"
      }
    },
    {
      "cell_type": "code",
      "source": [
        "import torch"
      ],
      "metadata": {
        "id": "-sfDGYbApIVo"
      },
      "execution_count": 23,
      "outputs": []
    },
    {
      "cell_type": "code",
      "source": [
        "x_train_tensor= torch.from_numpy(x_train)\n",
        "x_test_tensor= torch.from_numpy(x_test)\n",
        "y_train_tensor= torch.from_numpy(y_train)\n",
        "y_test_tensor= torch.from_numpy(y_test)"
      ],
      "metadata": {
        "id": "vYjmafb2pedB"
      },
      "execution_count": 24,
      "outputs": []
    },
    {
      "cell_type": "code",
      "source": [
        "x_train_tensor"
      ],
      "metadata": {
        "colab": {
          "base_uri": "https://localhost:8080/"
        },
        "id": "EOx2wdiepthS",
        "outputId": "b6b9d03f-1738-4d1c-da67-d1af9eb2f4c1"
      },
      "execution_count": 25,
      "outputs": [
        {
          "output_type": "execute_result",
          "data": {
            "text/plain": [
              "tensor([[-1.4408, -0.4353, -1.3621,  ...,  0.9320,  2.0972,  1.8865],\n",
              "        [ 1.9741,  1.7330,  2.0917,  ...,  2.6989,  1.8912,  2.4978],\n",
              "        [-1.4000, -1.2496, -1.3452,  ..., -0.9702,  0.5976,  0.0579],\n",
              "        ...,\n",
              "        [ 0.0488, -0.5550, -0.0651,  ..., -1.2390, -0.7086, -1.2715],\n",
              "        [-0.0390,  0.1021, -0.0314,  ...,  1.0500,  0.4343,  1.2134],\n",
              "        [-0.5486,  0.3133, -0.6035,  ..., -0.6110, -0.3345, -0.8463]],\n",
              "       dtype=torch.float64)"
            ]
          },
          "metadata": {},
          "execution_count": 25
        }
      ]
    },
    {
      "cell_type": "code",
      "source": [
        "x_test_tensor.shape"
      ],
      "metadata": {
        "colab": {
          "base_uri": "https://localhost:8080/"
        },
        "id": "3tVsxSnbpiwr",
        "outputId": "42182e8d-4204-4b4a-dc68-b3f77349bfe0"
      },
      "execution_count": 26,
      "outputs": [
        {
          "output_type": "execute_result",
          "data": {
            "text/plain": [
              "torch.Size([114, 30])"
            ]
          },
          "metadata": {},
          "execution_count": 26
        }
      ]
    },
    {
      "cell_type": "markdown",
      "source": [
        "# Data Class and Data Loader"
      ],
      "metadata": {
        "id": "wJQ4Ii2mbeSv"
      }
    },
    {
      "cell_type": "code",
      "source": [
        "from torch.utils.data import Dataset, DataLoader\n",
        "\n",
        "class customdataset(Dataset):\n",
        "\n",
        "  def __init__(self, features, labels):\n",
        "    self.features = features\n",
        "    self.labels = labels\n",
        "\n",
        "  def __len__(self):\n",
        "    return self.features.shape[0]\n",
        "\n",
        "  def __getitem__(self, index):\n",
        "    return self.features[index] , self.labels[index]"
      ],
      "metadata": {
        "id": "g5dNABBUbcWT"
      },
      "execution_count": 38,
      "outputs": []
    },
    {
      "cell_type": "code",
      "source": [
        "train_dataset = customdataset(x_train_tensor,y_train_tensor)\n",
        "test_dataset = customdataset(x_test_tensor,y_test_tensor)"
      ],
      "metadata": {
        "id": "Y18cY7pFbcS7"
      },
      "execution_count": 39,
      "outputs": []
    },
    {
      "cell_type": "code",
      "source": [
        "train_dataloader = DataLoader(train_dataset, batch_size=32, shuffle=True)\n",
        "test_dataloader = DataLoader(test_dataset, batch_size=32, shuffle=False)"
      ],
      "metadata": {
        "id": "ysRfnq7VbcP9"
      },
      "execution_count": 40,
      "outputs": []
    },
    {
      "cell_type": "markdown",
      "source": [
        "# model selection"
      ],
      "metadata": {
        "id": "lEl66JS0qo3-"
      }
    },
    {
      "cell_type": "code",
      "source": [
        "import torch.nn as nn\n",
        "class myneuralnetwork(nn.Module):\n",
        "\n",
        "  def __init__(self, num_features):\n",
        "    super().__init__()\n",
        "    self.linear = nn.Linear(num_features,1)\n",
        "    self.sigmoid = nn.Sigmoid()\n",
        "\n",
        "  def forward(self, x):\n",
        "    out = self.linear(x)\n",
        "    out = self.sigmoid(out)\n",
        "    return out\n"
      ],
      "metadata": {
        "id": "_VsmnGwhpp1k"
      },
      "execution_count": 41,
      "outputs": []
    },
    {
      "cell_type": "code",
      "source": [
        "# some important parameters\n",
        "\n",
        "learning_rate = 0.1\n",
        "epocs = 25\n"
      ],
      "metadata": {
        "id": "JKBpJujGrMAo"
      },
      "execution_count": 42,
      "outputs": []
    },
    {
      "cell_type": "code",
      "source": [
        "loss_function = nn.BCELoss()"
      ],
      "metadata": {
        "id": "ZRiV8qiuPFfF"
      },
      "execution_count": 43,
      "outputs": []
    },
    {
      "cell_type": "markdown",
      "source": [
        "# Training Pipeline"
      ],
      "metadata": {
        "id": "z6rqo9sBsDKr"
      }
    },
    {
      "cell_type": "code",
      "source": [
        "#create model\n",
        "model = myneuralnetwork(x_train_tensor.shape[1])\n",
        "\n",
        "x_train_tensor= x_train_tensor.type(torch.FloatTensor)\n",
        "y_train_tensor= y_train_tensor.type(torch.FloatTensor)\n",
        "\n",
        "\n",
        "# create optimizers\n",
        "optimizer = torch.optim.SGD(model.parameters(),lr=learning_rate)    # model.parameters is a function in pytorch that register all ur weight and bias , then iterate it\n",
        "\n",
        "for epoch in range(epocs):\n",
        "  for batch_features , batch_labels in train_dataloader:\n",
        "\n",
        "    # forward\n",
        "    y_pred = model(batch_features)\n",
        "    # print(y_pred)\n",
        "\n",
        "    # loss calculation\n",
        "    loss = loss_function(y_pred, batch_labels.view(-1,1))\n",
        "    # print(f\"Epoch: {epoch+1}, Loss: {loss.item()}\")\n",
        "\n",
        "    # clear gradients\n",
        "    optimizer.zero_grad()\n",
        "\n",
        "    # backward\n",
        "    loss.backward()\n",
        "    # update\n",
        "    optimizer.step()\n",
        "\n",
        "  print(f\"Epoch: {epoch+1}, Loss: {loss.item()}\")"
      ],
      "metadata": {
        "colab": {
          "base_uri": "https://localhost:8080/"
        },
        "collapsed": true,
        "id": "cgY5ktacrlUP",
        "outputId": "06d57249-ada1-4a7f-b984-826e56574663"
      },
      "execution_count": 44,
      "outputs": [
        {
          "output_type": "stream",
          "name": "stdout",
          "text": [
            "Epoch: 1, Loss: 0.6143571734428406\n",
            "Epoch: 2, Loss: 0.3604610562324524\n",
            "Epoch: 3, Loss: 0.1850954294204712\n",
            "Epoch: 4, Loss: 0.21391774713993073\n",
            "Epoch: 5, Loss: 0.0320395864546299\n",
            "Epoch: 6, Loss: 0.03592661768198013\n",
            "Epoch: 7, Loss: 0.5025883316993713\n",
            "Epoch: 8, Loss: 0.06470581144094467\n",
            "Epoch: 9, Loss: 0.052718162536621094\n",
            "Epoch: 10, Loss: 0.05133407190442085\n",
            "Epoch: 11, Loss: 0.02945670671761036\n",
            "Epoch: 12, Loss: 0.032998181879520416\n",
            "Epoch: 13, Loss: 0.013601471669971943\n",
            "Epoch: 14, Loss: 0.10719441622495651\n",
            "Epoch: 15, Loss: 0.05042911320924759\n",
            "Epoch: 16, Loss: 0.33659276366233826\n",
            "Epoch: 17, Loss: 0.10060317069292068\n",
            "Epoch: 18, Loss: 0.014538951218128204\n",
            "Epoch: 19, Loss: 0.012551157735288143\n",
            "Epoch: 20, Loss: 0.03765958547592163\n",
            "Epoch: 21, Loss: 0.015645580366253853\n",
            "Epoch: 22, Loss: 0.04610741510987282\n",
            "Epoch: 23, Loss: 0.03966598957777023\n",
            "Epoch: 24, Loss: 0.13405568897724152\n",
            "Epoch: 25, Loss: 0.048367615789175034\n"
          ]
        }
      ]
    },
    {
      "cell_type": "code",
      "source": [
        "model.linear.weight"
      ],
      "metadata": {
        "colab": {
          "base_uri": "https://localhost:8080/"
        },
        "id": "F_BBK9iFusq0",
        "outputId": "e66e5b57-e610-46b1-9ef2-48919a9a76ed"
      },
      "execution_count": 45,
      "outputs": [
        {
          "output_type": "execute_result",
          "data": {
            "text/plain": [
              "Parameter containing:\n",
              "tensor([[ 0.3332,  0.5218,  0.5635,  0.4566,  0.2027, -0.1136,  0.4774,  0.6277,\n",
              "          0.0337, -0.2480,  0.5796, -0.0215,  0.4035,  0.5588,  0.0623, -0.2843,\n",
              "         -0.1400,  0.1179, -0.1105, -0.4586,  0.8057,  0.7979,  0.5500,  0.6178,\n",
              "          0.4868,  0.1940,  0.4602,  0.5868,  0.5024,  0.2279]],\n",
              "       requires_grad=True)"
            ]
          },
          "metadata": {},
          "execution_count": 45
        }
      ]
    },
    {
      "cell_type": "code",
      "source": [
        "model.linear.bias"
      ],
      "metadata": {
        "colab": {
          "base_uri": "https://localhost:8080/"
        },
        "id": "BmYSrfX4rqR0",
        "outputId": "91c9c4d1-7aa3-4178-f743-3f32f3f67b33"
      },
      "execution_count": 46,
      "outputs": [
        {
          "output_type": "execute_result",
          "data": {
            "text/plain": [
              "Parameter containing:\n",
              "tensor([-0.5024], requires_grad=True)"
            ]
          },
          "metadata": {},
          "execution_count": 46
        }
      ]
    },
    {
      "cell_type": "markdown",
      "source": [
        "# Evaluation"
      ],
      "metadata": {
        "id": "lriQ-7Jdy-aV"
      }
    },
    {
      "cell_type": "code",
      "source": [
        "x_test_tensor= x_test_tensor.type(torch.FloatTensor)\n",
        "y_test_tensor= y_test_tensor.type(torch.FloatTensor)\n",
        "model.eval()\n",
        "accuracy_list=[]\n",
        "\n",
        "with torch.no_grad():\n",
        "  for batch_features , batch_labels in test_dataloader:\n",
        "\n",
        "    y_pred = model(batch_features)\n",
        "    y_pred = (y_pred > 0.7).float()\n",
        "\n",
        "    # calculate batch\n",
        "    batch_accuracy = (y_pred == batch_labels.view(-1,1)).float().mean()\n",
        "    accuracy_list.append(batch_accuracy)\n",
        "    #accuracy\n",
        "    accuracy = (y_pred == y_test_tensor).float().mean()\n",
        "    print(f\"Accuracy: {accuracy.item()}\")\n",
        "    #print(y_pred)"
      ],
      "metadata": {
        "colab": {
          "base_uri": "https://localhost:8080/"
        },
        "collapsed": true,
        "id": "hfFo-A9gr86y",
        "outputId": "1f797d96-1be5-4480-cd83-540b2c4319fe"
      },
      "execution_count": 52,
      "outputs": [
        {
          "output_type": "stream",
          "name": "stdout",
          "text": [
            "Accuracy: 0.5383771657943726\n",
            "Accuracy: 0.5537280440330505\n",
            "Accuracy: 0.530701756477356\n",
            "Accuracy: 0.5\n"
          ]
        }
      ]
    },
    {
      "cell_type": "code",
      "source": [],
      "metadata": {
        "id": "DOPKQFV_R-T-"
      },
      "execution_count": 36,
      "outputs": []
    }
  ]
}