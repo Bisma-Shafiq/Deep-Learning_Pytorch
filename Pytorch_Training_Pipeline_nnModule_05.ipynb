{
  "nbformat": 4,
  "nbformat_minor": 0,
  "metadata": {
    "colab": {
      "provenance": [],
      "authorship_tag": "ABX9TyNFln+LoKQAXOnEXUkHaY3x",
      "include_colab_link": true
    },
    "kernelspec": {
      "name": "python3",
      "display_name": "Python 3"
    },
    "language_info": {
      "name": "python"
    }
  },
  "cells": [
    {
      "cell_type": "markdown",
      "metadata": {
        "id": "view-in-github",
        "colab_type": "text"
      },
      "source": [
        "<a href=\"https://colab.research.google.com/github/Bisma-Shafiq/Deep-Learning_Pytorch/blob/main/Pytorch_Training_Pipeline_nnModule_05.ipynb\" target=\"_parent\"><img src=\"https://colab.research.google.com/assets/colab-badge.svg\" alt=\"Open In Colab\"/></a>"
      ]
    },
    {
      "cell_type": "code",
      "source": [
        "import pandas as pd\n",
        "import numpy as np\n",
        "import matplotlib.pyplot as plt\n",
        "import seaborn as sns\n",
        "from sklearn.model_selection import train_test_split\n",
        "from sklearn.preprocessing import StandardScaler\n",
        "from sklearn.preprocessing import LabelEncoder\n",
        "\n",
        "data = pd.read_csv('https://raw.githubusercontent.com/gscdit/Breast-Cancer-Detection/refs/heads/master/data.csv')\n",
        "data.drop(columns=['id', 'Unnamed: 32'], inplace=True)\n",
        "\n",
        "# Define features (X) and target variable (y)\n",
        "X = data.drop('diagnosis', axis=1)\n",
        "y = data['diagnosis']\n",
        "\n",
        "# Convert diagnosis to numerical values (0 for 'B', 1 for 'M')\n",
        "y = y.map({'B': 0, 'M': 1})\n",
        "\n",
        "\n",
        "# Split data into training and testing sets\n",
        "x_train, x_test, y_train, y_test = train_test_split(X, y, test_size=0.2, random_state=42) # Added random_state for reproducibility\n",
        "\n",
        "\n",
        "# Scale the features using StandardScaler\n",
        "st = StandardScaler()\n",
        "x_train = st.fit_transform(x_train)\n",
        "x_test = st.transform(x_test)\n"
      ],
      "metadata": {
        "id": "JcVrakLQlVEe"
      },
      "execution_count": 51,
      "outputs": []
    },
    {
      "cell_type": "code",
      "source": [
        "x_train"
      ],
      "metadata": {
        "colab": {
          "base_uri": "https://localhost:8080/"
        },
        "id": "0xqbjgOJoZJ-",
        "outputId": "64d02792-6ca2-4076-8a39-1a8124c9815b"
      },
      "execution_count": 52,
      "outputs": [
        {
          "output_type": "execute_result",
          "data": {
            "text/plain": [
              "array([[-1.44075296, -0.43531947, -1.36208497, ...,  0.9320124 ,\n",
              "         2.09724217,  1.88645014],\n",
              "       [ 1.97409619,  1.73302577,  2.09167167, ...,  2.6989469 ,\n",
              "         1.89116053,  2.49783848],\n",
              "       [-1.39998202, -1.24962228, -1.34520926, ..., -0.97023893,\n",
              "         0.59760192,  0.0578942 ],\n",
              "       ...,\n",
              "       [ 0.04880192, -0.55500086, -0.06512547, ..., -1.23903365,\n",
              "        -0.70863864, -1.27145475],\n",
              "       [-0.03896885,  0.10207345, -0.03137406, ...,  1.05001236,\n",
              "         0.43432185,  1.21336207],\n",
              "       [-0.54860557,  0.31327591, -0.60350155, ..., -0.61102866,\n",
              "        -0.3345212 , -0.84628745]])"
            ]
          },
          "metadata": {},
          "execution_count": 52
        }
      ]
    },
    {
      "cell_type": "code",
      "source": [
        "le = LabelEncoder()\n",
        "y_train = le.fit_transform(y_train)\n",
        "y_test = le.transform(y_test)"
      ],
      "metadata": {
        "id": "vrCBFkG5oxGu"
      },
      "execution_count": 53,
      "outputs": []
    },
    {
      "cell_type": "code",
      "source": [
        "y_test"
      ],
      "metadata": {
        "colab": {
          "base_uri": "https://localhost:8080/"
        },
        "id": "5bqHi5c5pG2y",
        "outputId": "92e2d14d-c4f3-4fc4-8f49-4029382c48ef"
      },
      "execution_count": 54,
      "outputs": [
        {
          "output_type": "execute_result",
          "data": {
            "text/plain": [
              "array([0, 1, 1, 0, 0, 1, 1, 1, 0, 0, 0, 1, 0, 1, 0, 1, 0, 0, 0, 1, 1, 0,\n",
              "       1, 0, 0, 0, 0, 0, 0, 1, 0, 0, 0, 0, 0, 0, 1, 0, 1, 0, 0, 1, 0, 0,\n",
              "       0, 0, 0, 0, 0, 0, 1, 1, 0, 0, 0, 0, 0, 1, 1, 0, 0, 1, 1, 0, 0, 0,\n",
              "       1, 1, 0, 0, 1, 1, 0, 1, 0, 0, 0, 1, 0, 0, 1, 0, 1, 1, 1, 1, 1, 1,\n",
              "       0, 0, 0, 0, 0, 0, 0, 0, 1, 1, 0, 1, 1, 0, 1, 1, 0, 0, 0, 1, 0, 0,\n",
              "       1, 0, 0, 1])"
            ]
          },
          "metadata": {},
          "execution_count": 54
        }
      ]
    },
    {
      "cell_type": "markdown",
      "source": [
        "# convert array to tensor\n"
      ],
      "metadata": {
        "id": "cQQPBAb6pWD9"
      }
    },
    {
      "cell_type": "code",
      "source": [
        "import torch"
      ],
      "metadata": {
        "id": "-sfDGYbApIVo"
      },
      "execution_count": 55,
      "outputs": []
    },
    {
      "cell_type": "code",
      "source": [
        "x_train_tensor= torch.from_numpy(x_train)\n",
        "x_test_tensor= torch.from_numpy(x_test)\n",
        "y_train_tensor= torch.from_numpy(y_train)\n",
        "y_test_tensor= torch.from_numpy(y_test)"
      ],
      "metadata": {
        "id": "vYjmafb2pedB"
      },
      "execution_count": 56,
      "outputs": []
    },
    {
      "cell_type": "code",
      "source": [
        "x_train_tensor"
      ],
      "metadata": {
        "colab": {
          "base_uri": "https://localhost:8080/"
        },
        "id": "EOx2wdiepthS",
        "outputId": "f2e7c660-3c4e-49e1-c18d-09c8d23e66b2"
      },
      "execution_count": 57,
      "outputs": [
        {
          "output_type": "execute_result",
          "data": {
            "text/plain": [
              "tensor([[-1.4408, -0.4353, -1.3621,  ...,  0.9320,  2.0972,  1.8865],\n",
              "        [ 1.9741,  1.7330,  2.0917,  ...,  2.6989,  1.8912,  2.4978],\n",
              "        [-1.4000, -1.2496, -1.3452,  ..., -0.9702,  0.5976,  0.0579],\n",
              "        ...,\n",
              "        [ 0.0488, -0.5550, -0.0651,  ..., -1.2390, -0.7086, -1.2715],\n",
              "        [-0.0390,  0.1021, -0.0314,  ...,  1.0500,  0.4343,  1.2134],\n",
              "        [-0.5486,  0.3133, -0.6035,  ..., -0.6110, -0.3345, -0.8463]],\n",
              "       dtype=torch.float64)"
            ]
          },
          "metadata": {},
          "execution_count": 57
        }
      ]
    },
    {
      "cell_type": "code",
      "source": [
        "x_test_tensor.shape"
      ],
      "metadata": {
        "colab": {
          "base_uri": "https://localhost:8080/"
        },
        "id": "3tVsxSnbpiwr",
        "outputId": "0dc0fc31-0696-442c-9b0d-a294a2b33f03"
      },
      "execution_count": 58,
      "outputs": [
        {
          "output_type": "execute_result",
          "data": {
            "text/plain": [
              "torch.Size([114, 30])"
            ]
          },
          "metadata": {},
          "execution_count": 58
        }
      ]
    },
    {
      "cell_type": "markdown",
      "source": [
        "# model selection"
      ],
      "metadata": {
        "id": "lEl66JS0qo3-"
      }
    },
    {
      "cell_type": "code",
      "source": [
        "import torch.nn as nn\n",
        "class myneuralnetwork(nn.Module):\n",
        "\n",
        "  def __init__(self, num_features):\n",
        "    super().__init__()\n",
        "    self.linear = nn.Linear(num_features,1)\n",
        "    self.sigmoid = nn.Sigmoid()\n",
        "\n",
        "  def forward(self, x):\n",
        "    out = self.linear(x)\n",
        "    out = self.sigmoid(out)\n",
        "    return out\n",
        ""
      ],
      "metadata": {
        "id": "_VsmnGwhpp1k"
      },
      "execution_count": 59,
      "outputs": []
    },
    {
      "cell_type": "code",
      "source": [
        "# some important parameters\n",
        "\n",
        "learning_rate = 0.1\n",
        "epocs = 25\n"
      ],
      "metadata": {
        "id": "JKBpJujGrMAo"
      },
      "execution_count": 60,
      "outputs": []
    },
    {
      "cell_type": "code",
      "source": [
        "loss_function = nn.BCELoss()"
      ],
      "metadata": {
        "id": "ZRiV8qiuPFfF"
      },
      "execution_count": 61,
      "outputs": []
    },
    {
      "cell_type": "markdown",
      "source": [
        "# Training Pipeline"
      ],
      "metadata": {
        "id": "z6rqo9sBsDKr"
      }
    },
    {
      "cell_type": "code",
      "source": [
        "#create model\n",
        "model = myneuralnetwork(x_train_tensor.shape[1])\n",
        "\n",
        "x_train_tensor= x_train_tensor.type(torch.FloatTensor)\n",
        "y_train_tensor= y_train_tensor.type(torch.FloatTensor)\n",
        "\n",
        "\n",
        "# create optimizers\n",
        "optimizer = torch.optim.SGD(model.parameters(),lr=learning_rate)    # model.parameters is a function in pytorch that register all ur weight and bias , then iterate it\n",
        "\n",
        "for epoch in range(epocs):\n",
        "\n",
        "  # forward\n",
        "  y_pred = model(x_train_tensor)\n",
        "  # print(y_pred)\n",
        "\n",
        "  # loss calculation\n",
        "  loss = loss_function(y_pred, y_train_tensor.reshape(-1,1))\n",
        "  # print(f\"Epoch: {epoch+1}, Loss: {loss.item()}\")\n",
        "\n",
        "  # clear gradients\n",
        "  optimizer.zero_grad()\n",
        "\n",
        "  # backward\n",
        "  loss.backward()\n",
        "  # update\n",
        "  optimizer.step()\n",
        "\n",
        "  print(f\"Epoch: {epoch+1}, Loss: {loss.item()}\")"
      ],
      "metadata": {
        "colab": {
          "base_uri": "https://localhost:8080/"
        },
        "collapsed": true,
        "id": "cgY5ktacrlUP",
        "outputId": "d4d4276f-8547-4697-d0fa-a5a5b44abdf6"
      },
      "execution_count": 62,
      "outputs": [
        {
          "output_type": "stream",
          "name": "stdout",
          "text": [
            "Epoch: 1, Loss: 0.8050171136856079\n",
            "Epoch: 2, Loss: 0.5946007370948792\n",
            "Epoch: 3, Loss: 0.48581671714782715\n",
            "Epoch: 4, Loss: 0.42094749212265015\n",
            "Epoch: 5, Loss: 0.3773784935474396\n",
            "Epoch: 6, Loss: 0.34569934010505676\n",
            "Epoch: 7, Loss: 0.3213648200035095\n",
            "Epoch: 8, Loss: 0.30191388726234436\n",
            "Epoch: 9, Loss: 0.2858957052230835\n",
            "Epoch: 10, Loss: 0.27239692211151123\n",
            "Epoch: 11, Loss: 0.2608122229576111\n",
            "Epoch: 12, Loss: 0.25072309374809265\n",
            "Epoch: 13, Loss: 0.24183006584644318\n",
            "Epoch: 14, Loss: 0.2339126467704773\n",
            "Epoch: 15, Loss: 0.22680425643920898\n",
            "Epoch: 16, Loss: 0.22037644684314728\n",
            "Epoch: 17, Loss: 0.21452821791172028\n",
            "Epoch: 18, Loss: 0.2091788351535797\n",
            "Epoch: 19, Loss: 0.2042628526687622\n",
            "Epoch: 20, Loss: 0.19972647726535797\n",
            "Epoch: 21, Loss: 0.19552497565746307\n",
            "Epoch: 22, Loss: 0.19162069261074066\n",
            "Epoch: 23, Loss: 0.1879817098379135\n",
            "Epoch: 24, Loss: 0.18458063900470734\n",
            "Epoch: 25, Loss: 0.18139395117759705\n"
          ]
        }
      ]
    },
    {
      "cell_type": "code",
      "source": [
        "model.linear.weight"
      ],
      "metadata": {
        "colab": {
          "base_uri": "https://localhost:8080/"
        },
        "id": "F_BBK9iFusq0",
        "outputId": "f72ff965-4c6e-4964-e0c4-bc89616d115f"
      },
      "execution_count": 63,
      "outputs": [
        {
          "output_type": "execute_result",
          "data": {
            "text/plain": [
              "Parameter containing:\n",
              "tensor([[ 0.2364,  0.0940,  0.1722,  0.3916,  0.0208,  0.2246,  0.1316,  0.2232,\n",
              "          0.0697, -0.0543,  0.3029,  0.0038,  0.0797,  0.0981, -0.0435, -0.0439,\n",
              "          0.0333,  0.0227, -0.0318, -0.0074,  0.1250,  0.2423,  0.2301,  0.3877,\n",
              "          0.0823,  0.1540,  0.1421,  0.3574,  0.0819,  0.0965]],\n",
              "       requires_grad=True)"
            ]
          },
          "metadata": {},
          "execution_count": 63
        }
      ]
    },
    {
      "cell_type": "code",
      "source": [
        "model.linear.bias"
      ],
      "metadata": {
        "colab": {
          "base_uri": "https://localhost:8080/"
        },
        "id": "BmYSrfX4rqR0",
        "outputId": "1b1c71d6-20c1-4843-e0c7-dad4a4476252"
      },
      "execution_count": 64,
      "outputs": [
        {
          "output_type": "execute_result",
          "data": {
            "text/plain": [
              "Parameter containing:\n",
              "tensor([-0.3004], requires_grad=True)"
            ]
          },
          "metadata": {},
          "execution_count": 64
        }
      ]
    },
    {
      "cell_type": "markdown",
      "source": [
        "# Evaluation"
      ],
      "metadata": {
        "id": "lriQ-7Jdy-aV"
      }
    },
    {
      "cell_type": "code",
      "source": [
        "x_test_tensor= x_test_tensor.type(torch.FloatTensor)\n",
        "y_test_tensor= y_test_tensor.type(torch.FloatTensor)\n",
        "\n",
        "with torch.no_grad():\n",
        "  y_pred = model(x_test_tensor)\n",
        "  y_pred = (y_pred > 0.9).float()\n",
        "  #accuracy\n",
        "  accuracy = (y_pred == y_test_tensor).float().mean()\n",
        "  print(f\"Accuracy: {accuracy.item()}\")\n",
        "  #print(y_pred)"
      ],
      "metadata": {
        "colab": {
          "base_uri": "https://localhost:8080/"
        },
        "collapsed": true,
        "id": "hfFo-A9gr86y",
        "outputId": "7808ccad-018c-4ad7-b2ab-e51d8b41ae13"
      },
      "execution_count": 65,
      "outputs": [
        {
          "output_type": "stream",
          "name": "stdout",
          "text": [
            "Accuracy: 0.5689442753791809\n"
          ]
        }
      ]
    },
    {
      "cell_type": "code",
      "source": [],
      "metadata": {
        "id": "DOPKQFV_R-T-"
      },
      "execution_count": 65,
      "outputs": []
    }
  ]
}