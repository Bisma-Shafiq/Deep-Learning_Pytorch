{
  "nbformat": 4,
  "nbformat_minor": 0,
  "metadata": {
    "colab": {
      "provenance": [],
      "authorship_tag": "ABX9TyOCCMDsIkozFLT0dk3NP0le",
      "include_colab_link": true
    },
    "kernelspec": {
      "name": "python3",
      "display_name": "Python 3"
    },
    "language_info": {
      "name": "python"
    }
  },
  "cells": [
    {
      "cell_type": "markdown",
      "metadata": {
        "id": "view-in-github",
        "colab_type": "text"
      },
      "source": [
        "<a href=\"https://colab.research.google.com/github/Bisma-Shafiq/Deep-Learning_Pytorch/blob/main/Pytorch_Autograd_02.ipynb\" target=\"_parent\"><img src=\"https://colab.research.google.com/assets/colab-badge.svg\" alt=\"Open In Colab\"/></a>"
      ]
    },
    {
      "cell_type": "code",
      "source": [
        "!pip install python-math"
      ],
      "metadata": {
        "colab": {
          "base_uri": "https://localhost:8080/"
        },
        "collapsed": true,
        "id": "-giwvxw-POvg",
        "outputId": "876ffbaa-b5be-4484-907d-174c973e5835"
      },
      "execution_count": null,
      "outputs": [
        {
          "output_type": "stream",
          "name": "stdout",
          "text": [
            "Requirement already satisfied: python-math in /usr/local/lib/python3.10/dist-packages (0.0.1)\n"
          ]
        }
      ]
    },
    {
      "cell_type": "code",
      "execution_count": null,
      "metadata": {
        "colab": {
          "base_uri": "https://localhost:8080/"
        },
        "id": "9NZKD2xlJGhY",
        "outputId": "1c45f62f-5af7-4a2e-87b5-6f0f9663421f"
      },
      "outputs": [
        {
          "output_type": "execute_result",
          "data": {
            "text/plain": [
              "6"
            ]
          },
          "metadata": {},
          "execution_count": 37
        }
      ],
      "source": [
        "def dy_dx(x):\n",
        "  return 2*x\n",
        "dy_dx(3)\n"
      ]
    },
    {
      "cell_type": "code",
      "source": [
        "import math\n",
        "def dy_dx(x):\n",
        "  return 2*x*math.cos(2*x)\n",
        "dy_dx(3)\n"
      ],
      "metadata": {
        "colab": {
          "base_uri": "https://localhost:8080/"
        },
        "id": "VS42_az2Ovn3",
        "outputId": "40e6db8b-73fb-45bd-f890-1de656447e5f"
      },
      "execution_count": null,
      "outputs": [
        {
          "output_type": "execute_result",
          "data": {
            "text/plain": [
              "5.761021719902196"
            ]
          },
          "metadata": {},
          "execution_count": 38
        }
      ]
    },
    {
      "cell_type": "markdown",
      "source": [
        "# tensor derivatives"
      ],
      "metadata": {
        "id": "zq4jMXjAQMLG"
      }
    },
    {
      "cell_type": "code",
      "source": [
        "import torch\n"
      ],
      "metadata": {
        "id": "jh7JqCc-O5ca"
      },
      "execution_count": null,
      "outputs": []
    },
    {
      "cell_type": "code",
      "source": [
        "x = torch.tensor(2.0, requires_grad=True)\n",
        "y = x**4\n"
      ],
      "metadata": {
        "id": "39bRoO1BQQk1"
      },
      "execution_count": null,
      "outputs": []
    },
    {
      "cell_type": "code",
      "source": [
        "x , y"
      ],
      "metadata": {
        "colab": {
          "base_uri": "https://localhost:8080/"
        },
        "id": "y0f32LGFQYYV",
        "outputId": "7ae242c2-27b2-431c-e307-9d067cd15f16"
      },
      "execution_count": null,
      "outputs": [
        {
          "output_type": "execute_result",
          "data": {
            "text/plain": [
              "(tensor(2., requires_grad=True), tensor(16., grad_fn=<PowBackward0>))"
            ]
          },
          "metadata": {},
          "execution_count": 41
        }
      ]
    },
    {
      "cell_type": "code",
      "source": [
        "y.backward()"
      ],
      "metadata": {
        "id": "Bn3J48NLQelg"
      },
      "execution_count": null,
      "outputs": []
    },
    {
      "cell_type": "code",
      "source": [
        "x.grad"
      ],
      "metadata": {
        "colab": {
          "base_uri": "https://localhost:8080/"
        },
        "id": "6_eZxvXDRKWz",
        "outputId": "8410515c-a554-4724-930f-202d9bf44920"
      },
      "execution_count": null,
      "outputs": [
        {
          "output_type": "execute_result",
          "data": {
            "text/plain": [
              "tensor(32.)"
            ]
          },
          "metadata": {},
          "execution_count": 43
        }
      ]
    },
    {
      "cell_type": "code",
      "source": [
        "x= torch.tensor(2.0, requires_grad=True)\n",
        "y = x**2\n",
        "z= torch.sin(y)\n",
        "\n",
        "\n"
      ],
      "metadata": {
        "id": "awo5X5GCRLf2"
      },
      "execution_count": 49,
      "outputs": []
    },
    {
      "cell_type": "code",
      "source": [
        "x, y, z"
      ],
      "metadata": {
        "colab": {
          "base_uri": "https://localhost:8080/"
        },
        "id": "W5moAze8SdcK",
        "outputId": "6afd62ad-fa36-407a-963a-931b4c79d4fb"
      },
      "execution_count": 51,
      "outputs": [
        {
          "output_type": "execute_result",
          "data": {
            "text/plain": [
              "(tensor(2., requires_grad=True),\n",
              " tensor(4., grad_fn=<PowBackward0>),\n",
              " tensor(-0.7568, grad_fn=<SinBackward0>))"
            ]
          },
          "metadata": {},
          "execution_count": 51
        }
      ]
    },
    {
      "cell_type": "code",
      "source": [
        "z.backward()"
      ],
      "metadata": {
        "id": "Nqro2dMvT-vh"
      },
      "execution_count": 50,
      "outputs": []
    },
    {
      "cell_type": "code",
      "source": [
        "x.grad"
      ],
      "metadata": {
        "colab": {
          "base_uri": "https://localhost:8080/"
        },
        "id": "S-qSJAv9Ur3K",
        "outputId": "16456687-3d8d-4390-ffb5-fea3fcf485fe"
      },
      "execution_count": 52,
      "outputs": [
        {
          "output_type": "execute_result",
          "data": {
            "text/plain": [
              "tensor(-2.6146)"
            ]
          },
          "metadata": {},
          "execution_count": 52
        }
      ]
    },
    {
      "cell_type": "markdown",
      "source": [
        "# neural network\n",
        "### student placement"
      ],
      "metadata": {
        "id": "nv1EIoota4VG"
      }
    },
    {
      "cell_type": "code",
      "source": [
        "x = torch.tensor(2.0)\n",
        "y= torch.tensor(0.0)\n",
        "\n",
        "w = torch.tensor(1.0)\n",
        "b = torch.tensor(0.0)"
      ],
      "metadata": {
        "id": "tzhM2iYEU048"
      },
      "execution_count": 53,
      "outputs": []
    },
    {
      "cell_type": "code",
      "source": [
        "def binary_loss_entropy(y_true, y_pred):\n",
        "  epsilon = 1e-8\n",
        "  y_pred = torch.clamp(y_pred, epsilon, 1-epsilon)\n",
        "  return -(y_true*torch.log(y_pred) + (1-y_true)*torch.log(1-y_pred))"
      ],
      "metadata": {
        "id": "PQ_K1zGWqZvp"
      },
      "execution_count": 60,
      "outputs": []
    },
    {
      "cell_type": "code",
      "source": [
        "z = x*w + b\n",
        "prediction = torch.sigmoid(z)"
      ],
      "metadata": {
        "id": "kTW5m_qhrbyA"
      },
      "execution_count": 61,
      "outputs": []
    },
    {
      "cell_type": "code",
      "source": [
        "loss = binary_loss_entropy(y, prediction)"
      ],
      "metadata": {
        "id": "VCyr5S3Grv1R"
      },
      "execution_count": 62,
      "outputs": []
    },
    {
      "cell_type": "code",
      "source": [
        "loss"
      ],
      "metadata": {
        "colab": {
          "base_uri": "https://localhost:8080/"
        },
        "id": "UJqaU05lufOT",
        "outputId": "3d9a637b-0b5f-479c-8dcf-fd3010379a0e"
      },
      "execution_count": 68,
      "outputs": [
        {
          "output_type": "execute_result",
          "data": {
            "text/plain": [
              "tensor(2.1269)"
            ]
          },
          "metadata": {},
          "execution_count": 68
        }
      ]
    },
    {
      "cell_type": "code",
      "source": [
        "# derivatives\n",
        "#1\n",
        "dz_dw = x\n",
        "#2\n",
        "dz_db = 1\n",
        "#3\n",
        "dypred_dz = prediction*(1-prediction)\n",
        "#4\n",
        "dloss_dy_pred = (prediction-y)/(prediction*(1-prediction))"
      ],
      "metadata": {
        "id": "6vPAlXwVr0H8"
      },
      "execution_count": 65,
      "outputs": []
    },
    {
      "cell_type": "code",
      "source": [
        "dl_dw = dloss_dy_pred*dypred_dz*dz_dw\n",
        "dl_db = dloss_dy_pred*dypred_dz*dz_db"
      ],
      "metadata": {
        "id": "pYtKG-btsSTp"
      },
      "execution_count": 66,
      "outputs": []
    },
    {
      "cell_type": "code",
      "source": [
        "print(\"gradient of loss w.r.t weight\",{dl_dw})\n",
        "print(\"gradient of loss w.r.t bias\",{dl_db})"
      ],
      "metadata": {
        "colab": {
          "base_uri": "https://localhost:8080/"
        },
        "id": "7Cg4B_jruMOE",
        "outputId": "862b202b-4719-413e-e47b-fa6c837a94ef"
      },
      "execution_count": 67,
      "outputs": [
        {
          "output_type": "stream",
          "name": "stdout",
          "text": [
            "gradient of loss w.r.t weight {tensor(1.7616)}\n",
            "gradient of loss w.r.t bias {tensor(0.8808)}\n"
          ]
        }
      ]
    },
    {
      "cell_type": "markdown",
      "source": [
        "# Neural Network with Autograd"
      ],
      "metadata": {
        "id": "fBYJZRhEuz7T"
      }
    },
    {
      "cell_type": "code",
      "source": [
        "x = torch.tensor(2.0)\n",
        "y= torch.tensor(0.0)\n",
        "\n",
        "w= torch.tensor(1.0, requires_grad=True)\n",
        "b= torch.tensor(0.0, requires_grad=True)"
      ],
      "metadata": {
        "id": "Oau8V0_4ud7q"
      },
      "execution_count": 69,
      "outputs": []
    },
    {
      "cell_type": "code",
      "source": [
        "x , y , w , b"
      ],
      "metadata": {
        "colab": {
          "base_uri": "https://localhost:8080/"
        },
        "id": "Mxgmr2AzvCZu",
        "outputId": "72ee1c80-4187-45d8-ac19-eacf64b02493"
      },
      "execution_count": 72,
      "outputs": [
        {
          "output_type": "execute_result",
          "data": {
            "text/plain": [
              "(tensor(2.),\n",
              " tensor(0.),\n",
              " tensor(1., requires_grad=True),\n",
              " tensor(0., requires_grad=True))"
            ]
          },
          "metadata": {},
          "execution_count": 72
        }
      ]
    },
    {
      "cell_type": "code",
      "source": [
        "z = x*w +b\n",
        "z"
      ],
      "metadata": {
        "colab": {
          "base_uri": "https://localhost:8080/"
        },
        "id": "clJ9t60gvLQ2",
        "outputId": "fa1973ad-3d11-44d2-a0c8-62dad0adc1f1"
      },
      "execution_count": 73,
      "outputs": [
        {
          "output_type": "execute_result",
          "data": {
            "text/plain": [
              "tensor(2., grad_fn=<AddBackward0>)"
            ]
          },
          "metadata": {},
          "execution_count": 73
        }
      ]
    },
    {
      "cell_type": "code",
      "source": [
        "y_pred = torch.sigmoid(z)\n",
        "y_pred"
      ],
      "metadata": {
        "colab": {
          "base_uri": "https://localhost:8080/"
        },
        "id": "lioU91W3vav6",
        "outputId": "23a39685-7ce7-41d5-91a3-612f63b9b187"
      },
      "execution_count": 74,
      "outputs": [
        {
          "output_type": "execute_result",
          "data": {
            "text/plain": [
              "tensor(0.8808, grad_fn=<SigmoidBackward0>)"
            ]
          },
          "metadata": {},
          "execution_count": 74
        }
      ]
    },
    {
      "cell_type": "code",
      "source": [
        "loss = binary_loss_entropy(y, y_pred)\n",
        "loss"
      ],
      "metadata": {
        "colab": {
          "base_uri": "https://localhost:8080/"
        },
        "id": "OfHjeiXnwAYG",
        "outputId": "532483ec-4eed-4fe4-ae9e-4cb824c6c302"
      },
      "execution_count": 75,
      "outputs": [
        {
          "output_type": "execute_result",
          "data": {
            "text/plain": [
              "tensor(2.1269, grad_fn=<NegBackward0>)"
            ]
          },
          "metadata": {},
          "execution_count": 75
        }
      ]
    },
    {
      "cell_type": "code",
      "source": [
        "loss.backward()"
      ],
      "metadata": {
        "id": "w9b5Uf7KwHW2"
      },
      "execution_count": 76,
      "outputs": []
    },
    {
      "cell_type": "code",
      "source": [
        "w.grad , b.grad"
      ],
      "metadata": {
        "colab": {
          "base_uri": "https://localhost:8080/"
        },
        "id": "nloBkItowc1J",
        "outputId": "871ca2aa-2c07-4c52-abbe-4dfd9530945a"
      },
      "execution_count": 77,
      "outputs": [
        {
          "output_type": "execute_result",
          "data": {
            "text/plain": [
              "(tensor(1.7616), tensor(0.8808))"
            ]
          },
          "metadata": {},
          "execution_count": 77
        }
      ]
    },
    {
      "cell_type": "markdown",
      "source": [
        "# Other important Features"
      ],
      "metadata": {
        "id": "xisWUVXGxCSG"
      }
    },
    {
      "cell_type": "code",
      "source": [
        "x = torch.tensor([2.0, 5.0 , 7.0], requires_grad=True)\n",
        "x"
      ],
      "metadata": {
        "colab": {
          "base_uri": "https://localhost:8080/"
        },
        "id": "CSJahLjpwfLE",
        "outputId": "ec0ff23e-6765-4e01-ad8d-2b2e13247e32"
      },
      "execution_count": 80,
      "outputs": [
        {
          "output_type": "execute_result",
          "data": {
            "text/plain": [
              "tensor([2., 5., 7.], requires_grad=True)"
            ]
          },
          "metadata": {},
          "execution_count": 80
        }
      ]
    },
    {
      "cell_type": "code",
      "source": [
        "y = (x**2).sum()\n",
        "y"
      ],
      "metadata": {
        "colab": {
          "base_uri": "https://localhost:8080/"
        },
        "id": "mAxNwA-0xMkr",
        "outputId": "b7005c76-9b97-49ef-cb5c-41474e07a674"
      },
      "execution_count": 82,
      "outputs": [
        {
          "output_type": "execute_result",
          "data": {
            "text/plain": [
              "tensor(78., grad_fn=<SumBackward0>)"
            ]
          },
          "metadata": {},
          "execution_count": 82
        }
      ]
    },
    {
      "cell_type": "code",
      "source": [
        "y.backward()"
      ],
      "metadata": {
        "id": "rgayyY3YxY6R"
      },
      "execution_count": 83,
      "outputs": []
    },
    {
      "cell_type": "code",
      "source": [
        "x.grad"
      ],
      "metadata": {
        "colab": {
          "base_uri": "https://localhost:8080/"
        },
        "id": "TQYSnwkgxdNs",
        "outputId": "79bf4cd5-e8f0-45f5-ab63-5b24bb1902dc"
      },
      "execution_count": 84,
      "outputs": [
        {
          "output_type": "execute_result",
          "data": {
            "text/plain": [
              "tensor([ 4., 10., 14.])"
            ]
          },
          "metadata": {},
          "execution_count": 84
        }
      ]
    },
    {
      "cell_type": "code",
      "source": [
        "# Clear grad\n",
        "\n",
        "x.grad.zero_()"
      ],
      "metadata": {
        "colab": {
          "base_uri": "https://localhost:8080/"
        },
        "id": "1VyLNtcOxeAM",
        "outputId": "f39fb588-4184-4fd0-920c-0e99e80a23cd"
      },
      "execution_count": 85,
      "outputs": [
        {
          "output_type": "execute_result",
          "data": {
            "text/plain": [
              "tensor([0., 0., 0.])"
            ]
          },
          "metadata": {},
          "execution_count": 85
        }
      ]
    },
    {
      "cell_type": "markdown",
      "source": [
        "# Disable Gradient Tracking\n",
        "#### forward works but backward not"
      ],
      "metadata": {
        "id": "fiiiL6wgyq9R"
      }
    },
    {
      "cell_type": "code",
      "source": [
        "x = torch.tensor(2.0, requires_grad=True)"
      ],
      "metadata": {
        "id": "Kw_GPOS7yKAr"
      },
      "execution_count": 97,
      "outputs": []
    },
    {
      "cell_type": "code",
      "source": [
        "x"
      ],
      "metadata": {
        "colab": {
          "base_uri": "https://localhost:8080/"
        },
        "id": "FCBS2z9Ayz6X",
        "outputId": "0fb7b7f2-ef78-4f39-f2bc-9c770120137f"
      },
      "execution_count": 98,
      "outputs": [
        {
          "output_type": "execute_result",
          "data": {
            "text/plain": [
              "tensor(2., requires_grad=True)"
            ]
          },
          "metadata": {},
          "execution_count": 98
        }
      ]
    },
    {
      "cell_type": "code",
      "source": [
        "#1- requires_grad=false\n",
        "x.requires_grad=False\n"
      ],
      "metadata": {
        "id": "F6vAmZIWy6F_"
      },
      "execution_count": 99,
      "outputs": []
    },
    {
      "cell_type": "code",
      "source": [
        "y = x** 2"
      ],
      "metadata": {
        "id": "zkfuk80VzRRX"
      },
      "execution_count": 100,
      "outputs": []
    },
    {
      "cell_type": "code",
      "source": [
        "y"
      ],
      "metadata": {
        "colab": {
          "base_uri": "https://localhost:8080/"
        },
        "id": "rOT1tr01zSTV",
        "outputId": "3740a61f-ef2f-4c88-d938-f79298e6fcad"
      },
      "execution_count": 101,
      "outputs": [
        {
          "output_type": "execute_result",
          "data": {
            "text/plain": [
              "tensor(4.)"
            ]
          },
          "metadata": {},
          "execution_count": 101
        }
      ]
    },
    {
      "cell_type": "code",
      "source": [
        "#2- detach\n",
        "z = x.detach()\n",
        "z"
      ],
      "metadata": {
        "colab": {
          "base_uri": "https://localhost:8080/"
        },
        "id": "tOdkz78zzdti",
        "outputId": "542d1152-6210-4809-d6ed-7441716d37be"
      },
      "execution_count": 102,
      "outputs": [
        {
          "output_type": "execute_result",
          "data": {
            "text/plain": [
              "tensor(2.)"
            ]
          },
          "metadata": {},
          "execution_count": 102
        }
      ]
    },
    {
      "cell_type": "code",
      "source": [
        "y = x**2\n",
        "y"
      ],
      "metadata": {
        "colab": {
          "base_uri": "https://localhost:8080/"
        },
        "id": "UcyjKYuQzzU3",
        "outputId": "6447133f-ceed-4120-a771-82d25e49085d"
      },
      "execution_count": 103,
      "outputs": [
        {
          "output_type": "execute_result",
          "data": {
            "text/plain": [
              "tensor(4.)"
            ]
          },
          "metadata": {},
          "execution_count": 103
        }
      ]
    },
    {
      "cell_type": "code",
      "source": [],
      "metadata": {
        "id": "Z9z6Z3Jcz34-"
      },
      "execution_count": null,
      "outputs": []
    }
  ]
}