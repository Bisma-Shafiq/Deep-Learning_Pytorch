{
  "nbformat": 4,
  "nbformat_minor": 0,
  "metadata": {
    "colab": {
      "provenance": [],
      "authorship_tag": "ABX9TyPCh34BCqEKukgxHMMrmhCD",
      "include_colab_link": true
    },
    "kernelspec": {
      "name": "python3",
      "display_name": "Python 3"
    },
    "language_info": {
      "name": "python"
    }
  },
  "cells": [
    {
      "cell_type": "markdown",
      "metadata": {
        "id": "view-in-github",
        "colab_type": "text"
      },
      "source": [
        "<a href=\"https://colab.research.google.com/github/Bisma-Shafiq/Deep-Learning_Pytorch/blob/main/Pytorch_nnModule_04.ipynb\" target=\"_parent\"><img src=\"https://colab.research.google.com/assets/colab-badge.svg\" alt=\"Open In Colab\"/></a>"
      ]
    },
    {
      "cell_type": "code",
      "execution_count": 27,
      "metadata": {
        "id": "JKaRzRCfrRZw"
      },
      "outputs": [],
      "source": [
        "import torch\n",
        "import torch.nn as nn"
      ]
    },
    {
      "cell_type": "code",
      "source": [
        "class Model(nn.Module):\n",
        "    def __init__(self, new_features):\n",
        "        super(Model, self).__init__()  # Initialize the parent class\n",
        "        self.linear = nn.Linear(new_features, 1)\n",
        "        self.sigmoid = nn.Sigmoid()  # Use Sigmoid instead of sigmoid\n",
        "\n",
        "    def forward(self, x):\n",
        "        out = self.linear(x)\n",
        "        out = self.sigmoid(out)\n",
        "        return out"
      ],
      "metadata": {
        "id": "t6464NkU_GnB"
      },
      "execution_count": 31,
      "outputs": []
    },
    {
      "cell_type": "code",
      "source": [
        "\n",
        "# Dataset creation\n",
        "x = torch.rand(4, 3)\n",
        "\n",
        "# Model creation\n",
        "model = Model(x.shape[1])\n",
        "\n",
        "# Forward calculation and printing the output\n",
        "output = model(x)\n",
        "print(output)"
      ],
      "metadata": {
        "colab": {
          "base_uri": "https://localhost:8080/"
        },
        "id": "fqRtERm-AGde",
        "outputId": "bda0e25b-ec7a-4de2-9231-a77b97cd4a1a"
      },
      "execution_count": 32,
      "outputs": [
        {
          "output_type": "stream",
          "name": "stdout",
          "text": [
            "tensor([[0.4653],\n",
            "        [0.4947],\n",
            "        [0.4539],\n",
            "        [0.4665]], grad_fn=<SigmoidBackward0>)\n"
          ]
        }
      ]
    },
    {
      "cell_type": "code",
      "source": [
        "model.linear.weight"
      ],
      "metadata": {
        "colab": {
          "base_uri": "https://localhost:8080/"
        },
        "id": "GjF-RdzuAP8c",
        "outputId": "45f4fa2d-2b15-42cc-8f2f-362714227116"
      },
      "execution_count": 33,
      "outputs": [
        {
          "output_type": "execute_result",
          "data": {
            "text/plain": [
              "Parameter containing:\n",
              "tensor([[-0.2055, -0.5266,  0.0604]], requires_grad=True)"
            ]
          },
          "metadata": {},
          "execution_count": 33
        }
      ]
    },
    {
      "cell_type": "code",
      "source": [
        "model.linear.bias"
      ],
      "metadata": {
        "colab": {
          "base_uri": "https://localhost:8080/"
        },
        "id": "yhcPzPlpA44F",
        "outputId": "879f5e3f-ec4a-48d6-8c2b-41f829fd4dcb"
      },
      "execution_count": 34,
      "outputs": [
        {
          "output_type": "execute_result",
          "data": {
            "text/plain": [
              "Parameter containing:\n",
              "tensor([0.2029], requires_grad=True)"
            ]
          },
          "metadata": {},
          "execution_count": 34
        }
      ]
    },
    {
      "cell_type": "code",
      "source": [
        "!pip install torchinfo\n",
        "from torchinfo import summary\n",
        "\n",
        "summary(model, input_size=(4,3))"
      ],
      "metadata": {
        "colab": {
          "base_uri": "https://localhost:8080/"
        },
        "id": "6XJIRLnNA7mA",
        "outputId": "888c5a5d-3e0b-4030-895a-dfd6e75958b2"
      },
      "execution_count": 36,
      "outputs": [
        {
          "output_type": "stream",
          "name": "stdout",
          "text": [
            "Collecting torchinfo\n",
            "  Downloading torchinfo-1.8.0-py3-none-any.whl.metadata (21 kB)\n",
            "Downloading torchinfo-1.8.0-py3-none-any.whl (23 kB)\n",
            "Installing collected packages: torchinfo\n",
            "Successfully installed torchinfo-1.8.0\n"
          ]
        },
        {
          "output_type": "execute_result",
          "data": {
            "text/plain": [
              "==========================================================================================\n",
              "Layer (type:depth-idx)                   Output Shape              Param #\n",
              "==========================================================================================\n",
              "Model                                    [4, 1]                    --\n",
              "├─Linear: 1-1                            [4, 1]                    4\n",
              "├─Sigmoid: 1-2                           [4, 1]                    --\n",
              "==========================================================================================\n",
              "Total params: 4\n",
              "Trainable params: 4\n",
              "Non-trainable params: 0\n",
              "Total mult-adds (M): 0.00\n",
              "==========================================================================================\n",
              "Input size (MB): 0.00\n",
              "Forward/backward pass size (MB): 0.00\n",
              "Params size (MB): 0.00\n",
              "Estimated Total Size (MB): 0.00\n",
              "=========================================================================================="
            ]
          },
          "metadata": {},
          "execution_count": 36
        }
      ]
    },
    {
      "cell_type": "markdown",
      "source": [
        "# Create NN\n"
      ],
      "metadata": {
        "id": "wJbpsexuCuTX"
      }
    },
    {
      "cell_type": "code",
      "source": [
        "class Model(nn.Module):\n",
        "    def __init__(self, new_features):\n",
        "        super(Model, self).__init__()\n",
        "        self.linear1 = nn.Linear(new_features, 3)\n",
        "        self.relu = nn.ReLU()\n",
        "        self.linear2 = nn.Linear(3,1)\n",
        "        self.sigmoid = nn.Sigmoid()\n",
        "\n",
        "    def forward(self, x):\n",
        "        out = self.linear1(x)\n",
        "        out = self.relu(out)\n",
        "        out = self.linear2(out)\n",
        "        out = self.sigmoid(out)\n",
        "        return out"
      ],
      "metadata": {
        "id": "c9K2ja0dBHDA"
      },
      "execution_count": 37,
      "outputs": []
    },
    {
      "cell_type": "code",
      "source": [
        "x = torch.rand(10, 5)\n",
        "\n",
        "# Model creation\n",
        "model = Model(x.shape[1])\n",
        "\n",
        "# Forward calculation and printing the output\n",
        "output = model(x)\n",
        "print(output)"
      ],
      "metadata": {
        "colab": {
          "base_uri": "https://localhost:8080/"
        },
        "id": "HC4Qaj7FDT8P",
        "outputId": "1602d870-2671-4a55-e03d-425c5a8a46bf"
      },
      "execution_count": 39,
      "outputs": [
        {
          "output_type": "stream",
          "name": "stdout",
          "text": [
            "tensor([[0.5600],\n",
            "        [0.5716],\n",
            "        [0.5875],\n",
            "        [0.5711],\n",
            "        [0.5623],\n",
            "        [0.5438],\n",
            "        [0.6041],\n",
            "        [0.5529],\n",
            "        [0.5351],\n",
            "        [0.5789]], grad_fn=<SigmoidBackward0>)\n"
          ]
        }
      ]
    },
    {
      "cell_type": "code",
      "source": [
        "model.linear1.weight , model.linear2.weight"
      ],
      "metadata": {
        "colab": {
          "base_uri": "https://localhost:8080/"
        },
        "id": "StaAMIofDZZt",
        "outputId": "658e206a-761a-48f7-d59e-5ad3df6804e9"
      },
      "execution_count": 42,
      "outputs": [
        {
          "output_type": "execute_result",
          "data": {
            "text/plain": [
              "(Parameter containing:\n",
              " tensor([[-0.3229, -0.1279,  0.4251, -0.0959,  0.2831],\n",
              "         [ 0.3881,  0.0301,  0.3441,  0.1398,  0.3204],\n",
              "         [-0.0884, -0.0641,  0.2297, -0.0571,  0.3131]], requires_grad=True),\n",
              " Parameter containing:\n",
              " tensor([[ 0.4707, -0.4773,  0.4716]], requires_grad=True))"
            ]
          },
          "metadata": {},
          "execution_count": 42
        }
      ]
    },
    {
      "cell_type": "code",
      "source": [
        "model.linear2.bias , model.linear1.bias"
      ],
      "metadata": {
        "colab": {
          "base_uri": "https://localhost:8080/"
        },
        "id": "0gjMAmdsDtRq",
        "outputId": "cd702582-5a02-42b8-900f-e45c9207eaed"
      },
      "execution_count": 43,
      "outputs": [
        {
          "output_type": "execute_result",
          "data": {
            "text/plain": [
              "(Parameter containing:\n",
              " tensor([0.2117], requires_grad=True),\n",
              " Parameter containing:\n",
              " tensor([0.3931, 0.0348, 0.1617], requires_grad=True))"
            ]
          },
          "metadata": {},
          "execution_count": 43
        }
      ]
    },
    {
      "cell_type": "code",
      "source": [
        "from torchinfo import summary\n",
        "\n",
        "summary(model, input_size=(10,5))"
      ],
      "metadata": {
        "colab": {
          "base_uri": "https://localhost:8080/"
        },
        "id": "Pj8XFW2QDxib",
        "outputId": "12a8679c-766a-42ac-d2d9-63a38903a4d6"
      },
      "execution_count": 44,
      "outputs": [
        {
          "output_type": "execute_result",
          "data": {
            "text/plain": [
              "==========================================================================================\n",
              "Layer (type:depth-idx)                   Output Shape              Param #\n",
              "==========================================================================================\n",
              "Model                                    [10, 1]                   --\n",
              "├─Linear: 1-1                            [10, 3]                   18\n",
              "├─ReLU: 1-2                              [10, 3]                   --\n",
              "├─Linear: 1-3                            [10, 1]                   4\n",
              "├─Sigmoid: 1-4                           [10, 1]                   --\n",
              "==========================================================================================\n",
              "Total params: 22\n",
              "Trainable params: 22\n",
              "Non-trainable params: 0\n",
              "Total mult-adds (M): 0.00\n",
              "==========================================================================================\n",
              "Input size (MB): 0.00\n",
              "Forward/backward pass size (MB): 0.00\n",
              "Params size (MB): 0.00\n",
              "Estimated Total Size (MB): 0.00\n",
              "=========================================================================================="
            ]
          },
          "metadata": {},
          "execution_count": 44
        }
      ]
    },
    {
      "cell_type": "markdown",
      "source": [
        "# Sequential container"
      ],
      "metadata": {
        "id": "OH2MsTSAFrSH"
      }
    },
    {
      "cell_type": "code",
      "source": [
        "class Model(nn.Module):\n",
        "    def __init__(self, new_features):\n",
        "        super(Model, self).__init__()\n",
        "        self.network = nn.Sequential(\n",
        "\n",
        "            nn.Linear(new_features, 3),\n",
        "            nn.ReLU(),\n",
        "            nn.Linear(3,1),\n",
        "            nn.Sigmoid()  )\n",
        "\n",
        "    def forward(self, x):\n",
        "        out = self.network(x)\n",
        "        return out"
      ],
      "metadata": {
        "id": "67T3mz9LE7O9"
      },
      "execution_count": 45,
      "outputs": []
    },
    {
      "cell_type": "code",
      "source": [
        "x = torch.rand(10, 5)\n",
        "\n",
        "# Model creation\n",
        "model = Model(x.shape[1])\n",
        "\n",
        "# Forward calculation and printing the output\n",
        "output = model(x)\n",
        "print(output)"
      ],
      "metadata": {
        "colab": {
          "base_uri": "https://localhost:8080/"
        },
        "id": "aJ7jkdzyF_o2",
        "outputId": "dc353035-4ce3-4efe-e1e9-45447f5c5b17"
      },
      "execution_count": 46,
      "outputs": [
        {
          "output_type": "stream",
          "name": "stdout",
          "text": [
            "tensor([[0.4212],\n",
            "        [0.4452],\n",
            "        [0.4225],\n",
            "        [0.4518],\n",
            "        [0.4411],\n",
            "        [0.4324],\n",
            "        [0.4480],\n",
            "        [0.4429],\n",
            "        [0.4286],\n",
            "        [0.4223]], grad_fn=<SigmoidBackward0>)\n"
          ]
        }
      ]
    },
    {
      "cell_type": "code",
      "source": [
        "from torchinfo import summary\n",
        "\n",
        "summary(model, input_size=(10,5))"
      ],
      "metadata": {
        "colab": {
          "base_uri": "https://localhost:8080/"
        },
        "id": "N7Pdvv3MGCvO",
        "outputId": "3372083a-336d-48da-d945-27be1eb6b526"
      },
      "execution_count": 47,
      "outputs": [
        {
          "output_type": "execute_result",
          "data": {
            "text/plain": [
              "==========================================================================================\n",
              "Layer (type:depth-idx)                   Output Shape              Param #\n",
              "==========================================================================================\n",
              "Model                                    [10, 1]                   --\n",
              "├─Sequential: 1-1                        [10, 1]                   --\n",
              "│    └─Linear: 2-1                       [10, 3]                   18\n",
              "│    └─ReLU: 2-2                         [10, 3]                   --\n",
              "│    └─Linear: 2-3                       [10, 1]                   4\n",
              "│    └─Sigmoid: 2-4                      [10, 1]                   --\n",
              "==========================================================================================\n",
              "Total params: 22\n",
              "Trainable params: 22\n",
              "Non-trainable params: 0\n",
              "Total mult-adds (M): 0.00\n",
              "==========================================================================================\n",
              "Input size (MB): 0.00\n",
              "Forward/backward pass size (MB): 0.00\n",
              "Params size (MB): 0.00\n",
              "Estimated Total Size (MB): 0.00\n",
              "=========================================================================================="
            ]
          },
          "metadata": {},
          "execution_count": 47
        }
      ]
    },
    {
      "cell_type": "code",
      "source": [],
      "metadata": {
        "id": "9lXQVaSFGE5h"
      },
      "execution_count": null,
      "outputs": []
    }
  ]
}